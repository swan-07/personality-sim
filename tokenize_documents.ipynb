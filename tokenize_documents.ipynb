{
 "cells": [
  {
   "cell_type": "code",
   "execution_count": 35,
   "id": "9d9a015e-cc7c-493e-a02f-d6c33a716220",
   "metadata": {},
   "outputs": [],
   "source": [
    "# based off crowsonkb's code\n",
    "import argparse\n",
    "from concurrent import futures\n",
    "from itertools import chain, islice\n",
    "import json\n",
    "import os\n",
    "from pathlib import Path\n",
    "\n",
    "from transformers import AutoTokenizer\n",
    "from tqdm import tqdm"
   ]
  },
  {
   "cell_type": "code",
   "execution_count": 36,
   "id": "7bd92e07-3ff7-4e6b-bdd8-724eab45a265",
   "metadata": {},
   "outputs": [],
   "source": [
    "def batched(iterable, n):\n",
    "    \"Batch data into tuples of length n. The last batch may be shorter.\"\n",
    "    # batched('ABCDEFG', 3) --> ABC DEF G\n",
    "    if n < 1:\n",
    "        raise ValueError(\"n must be at least one\")\n",
    "    it = iter(iterable)\n",
    "    while batch := tuple(islice(it, n)):\n",
    "        yield batch"
   ]
  },
  {
   "cell_type": "code",
   "execution_count": 37,
   "id": "c58f8729-dd13-41d1-bd47-6e4bb2a88029",
   "metadata": {},
   "outputs": [
    {
     "data": {
      "application/vnd.jupyter.widget-view+json": {
       "model_id": "d057c07b1b124218a97e0cd04d8f4426",
       "version_major": 2,
       "version_minor": 0
      },
      "text/plain": [
       "tokenizer_config.json:   0%|          | 0.00/1.62k [00:00<?, ?B/s]"
      ]
     },
     "metadata": {},
     "output_type": "display_data"
    },
    {
     "data": {
      "application/vnd.jupyter.widget-view+json": {
       "model_id": "9bedf1f4929a49f78a610e118a8b61d8",
       "version_major": 2,
       "version_minor": 0
      },
      "text/plain": [
       "tokenizer.model:   0%|          | 0.00/500k [00:00<?, ?B/s]"
      ]
     },
     "metadata": {},
     "output_type": "display_data"
    },
    {
     "data": {
      "application/vnd.jupyter.widget-view+json": {
       "model_id": "d3da24ee7430460295b9727d7e332248",
       "version_major": 2,
       "version_minor": 0
      },
      "text/plain": [
       "tokenizer.json:   0%|          | 0.00/1.84M [00:00<?, ?B/s]"
      ]
     },
     "metadata": {},
     "output_type": "display_data"
    },
    {
     "data": {
      "application/vnd.jupyter.widget-view+json": {
       "model_id": "428d4ed9af6949b1849861835ffd2390",
       "version_major": 2,
       "version_minor": 0
      },
      "text/plain": [
       "special_tokens_map.json:   0%|          | 0.00/414 [00:00<?, ?B/s]"
      ]
     },
     "metadata": {},
     "output_type": "display_data"
    }
   ],
   "source": [
    "tokenizer = AutoTokenizer.from_pretrained(\"meta-llama/Llama-2-7b-chat-hf\")\n"
   ]
  },
  {
   "cell_type": "code",
   "execution_count": 39,
   "id": "7edfbe9b-5f1f-48f3-aef0-bcc1ab9647e2",
   "metadata": {},
   "outputs": [
    {
     "name": "stdout",
     "output_type": "stream",
     "text": [
      "Collecting pandas\n",
      "  Downloading pandas-2.2.2-cp310-cp310-manylinux_2_17_x86_64.manylinux2014_x86_64.whl.metadata (19 kB)\n",
      "Requirement already satisfied: numpy>=1.22.4 in /usr/local/lib/python3.10/dist-packages (from pandas) (1.24.1)\n",
      "Requirement already satisfied: python-dateutil>=2.8.2 in /usr/local/lib/python3.10/dist-packages (from pandas) (2.8.2)\n",
      "Collecting pytz>=2020.1 (from pandas)\n",
      "  Downloading pytz-2024.1-py2.py3-none-any.whl.metadata (22 kB)\n",
      "Collecting tzdata>=2022.7 (from pandas)\n",
      "  Downloading tzdata-2024.1-py2.py3-none-any.whl.metadata (1.4 kB)\n",
      "Requirement already satisfied: six>=1.5 in /usr/lib/python3/dist-packages (from python-dateutil>=2.8.2->pandas) (1.16.0)\n",
      "Downloading pandas-2.2.2-cp310-cp310-manylinux_2_17_x86_64.manylinux2014_x86_64.whl (13.0 MB)\n",
      "\u001b[2K   \u001b[90m━━━━━━━━━━━━━━━━━━━━━━━━━━━━━━━━━━━━━━━━\u001b[0m \u001b[32m13.0/13.0 MB\u001b[0m \u001b[31m106.8 MB/s\u001b[0m eta \u001b[36m0:00:00\u001b[0m00:01\u001b[0m00:01\u001b[0m\n",
      "\u001b[?25hDownloading pytz-2024.1-py2.py3-none-any.whl (505 kB)\n",
      "\u001b[2K   \u001b[90m━━━━━━━━━━━━━━━━━━━━━━━━━━━━━━━━━━━━━━━━\u001b[0m \u001b[32m505.5/505.5 kB\u001b[0m \u001b[31m59.5 MB/s\u001b[0m eta \u001b[36m0:00:00\u001b[0m\n",
      "\u001b[?25hDownloading tzdata-2024.1-py2.py3-none-any.whl (345 kB)\n",
      "\u001b[2K   \u001b[90m━━━━━━━━━━━━━━━━━━━━━━━━━━━━━━━━━━━━━━━━\u001b[0m \u001b[32m345.4/345.4 kB\u001b[0m \u001b[31m47.3 MB/s\u001b[0m eta \u001b[36m0:00:00\u001b[0m\n",
      "\u001b[?25hInstalling collected packages: pytz, tzdata, pandas\n",
      "Successfully installed pandas-2.2.2 pytz-2024.1 tzdata-2024.1\n",
      "\u001b[33mWARNING: Running pip as the 'root' user can result in broken permissions and conflicting behaviour with the system package manager. It is recommended to use a virtual environment instead: https://pip.pypa.io/warnings/venv\u001b[0m\u001b[33m\n",
      "\u001b[0m\n",
      "\u001b[1m[\u001b[0m\u001b[34;49mnotice\u001b[0m\u001b[1;39;49m]\u001b[0m\u001b[39;49m A new release of pip is available: \u001b[0m\u001b[31;49m23.3.1\u001b[0m\u001b[39;49m -> \u001b[0m\u001b[32;49m24.1.1\u001b[0m\n",
      "\u001b[1m[\u001b[0m\u001b[34;49mnotice\u001b[0m\u001b[1;39;49m]\u001b[0m\u001b[39;49m To update, run: \u001b[0m\u001b[32;49mpython -m pip install --upgrade pip\u001b[0m\n"
     ]
    }
   ],
   "source": [
    "!pip install pandas\n",
    "import pandas"
   ]
  },
  {
   "cell_type": "code",
   "execution_count": 47,
   "id": "05175157-def6-43f1-bf33-ed8f8ba91242",
   "metadata": {},
   "outputs": [],
   "source": [
    "test_dset = pandas.read_csv('test_dataset.csv')\n"
   ]
  },
  {
   "cell_type": "code",
   "execution_count": 57,
   "id": "495c5256-72e4-42d5-b16c-b048effcc397",
   "metadata": {},
   "outputs": [],
   "source": [
    "train_dset = pandas.read_csv('train_dataset.csv')"
   ]
  },
  {
   "cell_type": "code",
   "execution_count": 49,
   "id": "35902ea5-67c4-4053-8a6b-cf93e34c8130",
   "metadata": {},
   "outputs": [
    {
     "data": {
      "text/html": [
       "<div>\n",
       "<style scoped>\n",
       "    .dataframe tbody tr th:only-of-type {\n",
       "        vertical-align: middle;\n",
       "    }\n",
       "\n",
       "    .dataframe tbody tr th {\n",
       "        vertical-align: top;\n",
       "    }\n",
       "\n",
       "    .dataframe thead th {\n",
       "        text-align: right;\n",
       "    }\n",
       "</style>\n",
       "<table border=\"1\" class=\"dataframe\">\n",
       "  <thead>\n",
       "    <tr style=\"text-align: right;\">\n",
       "      <th></th>\n",
       "      <th>text</th>\n",
       "      <th>__index_level_0__</th>\n",
       "    </tr>\n",
       "  </thead>\n",
       "  <tbody>\n",
       "    <tr>\n",
       "      <th>0</th>\n",
       "      <td>ELLALALLWLEA ELLA ELLA pokemon is different wt...</td>\n",
       "      <td>2740</td>\n",
       "    </tr>\n",
       "    <tr>\n",
       "      <th>1</th>\n",
       "      <td>meeting this tuesday + announce WeChat groups ...</td>\n",
       "      <td>1911</td>\n",
       "    </tr>\n",
       "    <tr>\n",
       "      <th>2</th>\n",
       "      <td>😭 it’s ok okok &lt; 😄 hi also we should aim to ge...</td>\n",
       "      <td>1263</td>\n",
       "    </tr>\n",
       "    <tr>\n",
       "      <th>3</th>\n",
       "      <td>😭 on the internet man why would ppl lie 😭 THE ...</td>\n",
       "      <td>1456</td>\n",
       "    </tr>\n",
       "    <tr>\n",
       "      <th>4</th>\n",
       "      <td>bear and also i did not feel like clicking the...</td>\n",
       "      <td>2254</td>\n",
       "    </tr>\n",
       "  </tbody>\n",
       "</table>\n",
       "</div>"
      ],
      "text/plain": [
       "                                                text  __index_level_0__\n",
       "0  ELLALALLWLEA ELLA ELLA pokemon is different wt...               2740\n",
       "1  meeting this tuesday + announce WeChat groups ...               1911\n",
       "2  😭 it’s ok okok < 😄 hi also we should aim to ge...               1263\n",
       "3  😭 on the internet man why would ppl lie 😭 THE ...               1456\n",
       "4  bear and also i did not feel like clicking the...               2254"
      ]
     },
     "execution_count": 49,
     "metadata": {},
     "output_type": "execute_result"
    }
   ],
   "source": [
    "test_dset.head()"
   ]
  },
  {
   "cell_type": "code",
   "execution_count": 51,
   "id": "ab1bb6a2-be9c-472a-8387-66e0c1cb4b12",
   "metadata": {},
   "outputs": [],
   "source": [
    "texts = test_dset['text'].tolist()"
   ]
  },
  {
   "cell_type": "code",
   "execution_count": 58,
   "id": "b761460f-eaca-4b73-b8f2-a8127aabccc8",
   "metadata": {},
   "outputs": [],
   "source": [
    "texts1 = train_dset['text'].tolist()"
   ]
  },
  {
   "cell_type": "code",
   "execution_count": 52,
   "id": "55a43298-e4d6-4027-b952-5d19903dae27",
   "metadata": {},
   "outputs": [
    {
     "name": "stderr",
     "output_type": "stream",
     "text": [
      "100%|██████████| 551/551 [00:00<00:00, 38243.61it/s]\n"
     ]
    }
   ],
   "source": [
    "#tokenize\n",
    "with futures.ThreadPoolExecutor(max_workers=os.cpu_count()) as executor:\n",
    "    gen = (inputs.input_ids for inputs in executor.map(tokenizer, texts))\n",
    "    document_tokens = list(tqdm(gen, total=len(texts)))"
   ]
  },
  {
   "cell_type": "code",
   "execution_count": 63,
   "id": "abb86dfa-4601-4c34-bc79-854bfd36f070",
   "metadata": {},
   "outputs": [
    {
     "name": "stderr",
     "output_type": "stream",
     "text": [
      "100%|██████████| 2203/2203 [00:00<00:00, 47105.87it/s]\n"
     ]
    }
   ],
   "source": [
    "with futures.ThreadPoolExecutor(max_workers=os.cpu_count()) as executor:\n",
    "    gen1 = (inputs.input_ids for inputs in executor.map(tokenizer, texts1))\n",
    "    document_tokens1 = list(tqdm(gen1, total=len(texts1)))"
   ]
  },
  {
   "cell_type": "code",
   "execution_count": 53,
   "id": "b9f6cadd-2018-43bd-a16f-cbe02eb52593",
   "metadata": {},
   "outputs": [],
   "source": [
    "#append eos\n",
    "for tokens in document_tokens:\n",
    "    tokens.append(tokenizer.eos_token_id)"
   ]
  },
  {
   "cell_type": "code",
   "execution_count": 64,
   "id": "ab0206a0-0753-42ce-a943-534207e780b9",
   "metadata": {},
   "outputs": [],
   "source": [
    "#append eos\n",
    "for tokens in document_tokens1:\n",
    "    tokens.append(tokenizer.eos_token_id)"
   ]
  },
  {
   "cell_type": "code",
   "execution_count": 55,
   "id": "b0891d90-d6d2-49c3-9aca-d9ef67c2f7da",
   "metadata": {},
   "outputs": [],
   "source": [
    "test_dset['tokenized_texts'] = document_tokens\n"
   ]
  },
  {
   "cell_type": "code",
   "execution_count": 65,
   "id": "227112b5-e165-4030-88f7-69f2acf58ed7",
   "metadata": {},
   "outputs": [],
   "source": [
    "train_dset['tokenized_texts'] = document_tokens1\n"
   ]
  },
  {
   "cell_type": "code",
   "execution_count": 71,
   "id": "394c6f88-08aa-4be1-afb6-b0d9029a8a17",
   "metadata": {},
   "outputs": [],
   "source": [
    "dt = document_tokens + document_tokens1"
   ]
  },
  {
   "cell_type": "code",
   "execution_count": 74,
   "id": "1741bc6e-6445-4403-8714-893265157c70",
   "metadata": {},
   "outputs": [],
   "source": [
    "import pickle\n",
    "with open('dataset.pkl', 'wb') as file:\n",
    "    pickle.dump(dt, file)\n"
   ]
  },
  {
   "cell_type": "code",
   "execution_count": 69,
   "id": "409b5132-0338-408e-8240-9299e4c1efbd",
   "metadata": {},
   "outputs": [],
   "source": [
    "train_dset.to_csv('train_tokenized.csv')"
   ]
  },
  {
   "cell_type": "code",
   "execution_count": 70,
   "id": "d08e2e65-e570-4462-a952-3153ec67350f",
   "metadata": {},
   "outputs": [],
   "source": [
    "test_dset.to_csv('test_tokenized.csv')"
   ]
  }
 ],
 "metadata": {
  "kernelspec": {
   "display_name": "Python 3 (ipykernel)",
   "language": "python",
   "name": "python3"
  },
  "language_info": {
   "codemirror_mode": {
    "name": "ipython",
    "version": 3
   },
   "file_extension": ".py",
   "mimetype": "text/x-python",
   "name": "python",
   "nbconvert_exporter": "python",
   "pygments_lexer": "ipython3",
   "version": "3.10.12"
  }
 },
 "nbformat": 4,
 "nbformat_minor": 5
}
